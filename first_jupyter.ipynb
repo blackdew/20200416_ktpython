{
 "cells": [
  {
   "cell_type": "code",
   "execution_count": 1,
   "metadata": {},
   "outputs": [
    {
     "name": "stdout",
     "output_type": "stream",
     "text": [
      "1\n"
     ]
    }
   ],
   "source": [
    "a = 1\n",
    "print(a)"
   ]
  },
  {
   "cell_type": "markdown",
   "metadata": {},
   "source": [
    "아래 코드에 대한 설명. 혹은 파일의 설명\n",
    "# 제목"
   ]
  },
  {
   "cell_type": "code",
   "execution_count": 2,
   "metadata": {},
   "outputs": [
    {
     "name": "stdin",
     "output_type": "stream",
     "text": [
      "누구에게 보낼건가요?  이숙번\n",
      "오늘은 몇일째 수업인가요?  1\n"
     ]
    },
    {
     "name": "stdout",
     "output_type": "stream",
     "text": [
      "\n",
      "**************************************************\n",
      "메일 내용입니다.\n",
      "**************************************************\n",
      "안녕하세요, 이숙번님\n",
      "파이썬 수업에 오신걸 환영합니다. \n",
      "오늘은 1일째 수업입니다. \n",
      "남은 기간 즐겁고 행복한 공부가 되길 기원합니다.\n",
      "\n"
     ]
    },
    {
     "name": "stdin",
     "output_type": "stream",
     "text": [
      "끝낼까요? (y/n)  y\n"
     ]
    },
    {
     "name": "stdout",
     "output_type": "stream",
     "text": [
      "종료합니다.\n"
     ]
    }
   ],
   "source": [
    "# 메일 내용을 message 변수에 담고\n",
    "message = \"\"\"안녕하세요, {0}님\n",
    "파이썬 수업에 오신걸 환영합니다. \n",
    "오늘은 {1}일째 수업입니다. \n",
    "남은 기간 즐겁고 행복한 공부가 되길 기원합니다.\n",
    "\"\"\"\n",
    "\n",
    "while(True):\n",
    "    # 누구에게 보낼지 이름을 입력을 받아서\n",
    "    who = input(\"누구에게 보낼건가요? \")\n",
    "    date = input(\"오늘은 몇일째 수업인가요? \")\n",
    "\n",
    "    # 메일 내용을 완성\n",
    "    complete_message = message.format(who, date)\n",
    "\n",
    "    # 출력한다.\n",
    "    print()\n",
    "    print(\"*\" * 50)\n",
    "    print(\"메일 내용입니다.\")\n",
    "    print(\"*\" * 50)\n",
    "    print(complete_message)\n",
    "    \n",
    "    end = input(\"끝낼까요? (y/n) \")\n",
    "    if (end == 'y'):\n",
    "        print(\"종료합니다.\")\n",
    "        break\n",
    "\n",
    "# 메일을 바로 발송\n",
    "# send_mail(complete_message)"
   ]
  },
  {
   "cell_type": "code",
   "execution_count": 8,
   "metadata": {},
   "outputs": [
    {
     "name": "stdout",
     "output_type": "stream",
     "text": [
      "Help on method raw_input in module ipykernel.kernelbase:\n",
      "\n",
      "raw_input(prompt='') method of ipykernel.ipkernel.IPythonKernel instance\n",
      "    Forward raw_input to frontends\n",
      "    \n",
      "    Raises\n",
      "    ------\n",
      "    StdinNotImplentedError if active frontend doesn't support stdin.\n",
      "\n"
     ]
    }
   ],
   "source": [
    "help(input)"
   ]
  },
  {
   "cell_type": "code",
   "execution_count": 5,
   "metadata": {},
   "outputs": [
    {
     "name": "stdout",
     "output_type": "stream",
     "text": [
      "안녕하세요\n"
     ]
    }
   ],
   "source": [
    "print(\"안녕\", \"하세요\", sep=\"\")"
   ]
  },
  {
   "cell_type": "code",
   "execution_count": 7,
   "metadata": {},
   "outputs": [
    {
     "name": "stdout",
     "output_type": "stream",
     "text": [
      "안녕하세요1안녕하세요2\n"
     ]
    }
   ],
   "source": [
    "print(\"안녕하세요1\", end='')\n",
    "print(\"안녕하세요2\")\n"
   ]
  },
  {
   "cell_type": "code",
   "execution_count": 79,
   "metadata": {},
   "outputs": [
    {
     "data": {
      "text/plain": [
       "4"
      ]
     },
     "execution_count": 79,
     "metadata": {},
     "output_type": "execute_result"
    }
   ],
   "source": [
    "import random\n",
    "random.randint(1, 10)"
   ]
  },
  {
   "cell_type": "code",
   "execution_count": 81,
   "metadata": {},
   "outputs": [
    {
     "name": "stdout",
     "output_type": "stream",
     "text": [
      "0\n",
      "1\n",
      "2\n",
      "3\n",
      "4\n"
     ]
    }
   ],
   "source": [
    "for i in range(5):\n",
    "    print(i)"
   ]
  },
  {
   "cell_type": "code",
   "execution_count": 83,
   "metadata": {},
   "outputs": [
    {
     "name": "stdout",
     "output_type": "stream",
     "text": [
      "0\n",
      "1\n",
      "2\n",
      "3\n",
      "4\n"
     ]
    }
   ],
   "source": [
    "for i in [0, 1, 2, 3, 4]:\n",
    "    print(i)"
   ]
  },
  {
   "cell_type": "code",
   "execution_count": 86,
   "metadata": {},
   "outputs": [
    {
     "data": {
      "text/plain": [
       "[10, 12, 14, 16, 18, 20, 22, 24, 26, 28]"
      ]
     },
     "execution_count": 86,
     "metadata": {},
     "output_type": "execute_result"
    }
   ],
   "source": [
    "list(range(10, 30, 2))"
   ]
  },
  {
   "cell_type": "code",
   "execution_count": 87,
   "metadata": {},
   "outputs": [
    {
     "name": "stdout",
     "output_type": "stream",
     "text": [
      "10\n",
      "12\n",
      "14\n",
      "16\n",
      "18\n",
      "20\n",
      "22\n",
      "24\n",
      "26\n",
      "28\n"
     ]
    }
   ],
   "source": [
    "for i in range(10, 30, 2):\n",
    "    print(i)"
   ]
  },
  {
   "cell_type": "code",
   "execution_count": 88,
   "metadata": {},
   "outputs": [
    {
     "name": "stdout",
     "output_type": "stream",
     "text": [
      "[18, 21, 16, 23, 9, 44]\n"
     ]
    }
   ],
   "source": [
    "lotto = []\n",
    "for i in range(6):\n",
    "    lotto.append(random.randint(1, 46))\n",
    "\n",
    "print(lotto)"
   ]
  },
  {
   "cell_type": "code",
   "execution_count": 89,
   "metadata": {},
   "outputs": [
    {
     "name": "stdout",
     "output_type": "stream",
     "text": [
      "[46, 41, 11, 18, 41, 37]\n"
     ]
    }
   ],
   "source": [
    "lotto = [random.randint(1, 46) for i in range(6)]\n",
    "print(lotto)"
   ]
  },
  {
   "cell_type": "code",
   "execution_count": 91,
   "metadata": {},
   "outputs": [
    {
     "name": "stdout",
     "output_type": "stream",
     "text": [
      "[22, 36]\n"
     ]
    }
   ],
   "source": [
    "lotto2 = [i * 2 for i in lotto if i * 2 < 40]\n",
    "print(lotto2)"
   ]
  },
  {
   "cell_type": "code",
   "execution_count": null,
   "metadata": {},
   "outputs": [],
   "source": []
  }
 ],
 "metadata": {
  "kernelspec": {
   "display_name": "Python 3",
   "language": "python",
   "name": "python3"
  },
  "language_info": {
   "codemirror_mode": {
    "name": "ipython",
    "version": 3
   },
   "file_extension": ".py",
   "mimetype": "text/x-python",
   "name": "python",
   "nbconvert_exporter": "python",
   "pygments_lexer": "ipython3",
   "version": "3.7.7"
  }
 },
 "nbformat": 4,
 "nbformat_minor": 4
}
