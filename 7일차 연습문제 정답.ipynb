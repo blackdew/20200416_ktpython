{
 "cells": [
  {
   "cell_type": "code",
   "execution_count": 4,
   "metadata": {},
   "outputs": [
    {
     "name": "stdin",
     "output_type": "stream",
     "text": [
      "세 개의 숫자를 입력하세요.\n",
      " 2, 3, 4\n"
     ]
    },
    {
     "name": "stdout",
     "output_type": "stream",
     "text": [
      "최소값 2은 짝수입니다\n"
     ]
    }
   ],
   "source": [
    "# 사용자로부터 세 개의 숫자를 입력 받은 후 가장 작은 숫자가 홀수인지 짝수인지 출력하세요.\n",
    "\n",
    "nums = input(\"세 개의 숫자를 입력하세요. (예: 2, 3, 4) \\n\")\n",
    "nums = [int(n.strip()) for n in nums.split(',')]\n",
    "print(f\"최소값 {min(nums)}은 {'짝수' if min(nums) / 2 else '홀수'}입니다\")"
   ]
  },
  {
   "cell_type": "code",
   "execution_count": 5,
   "metadata": {},
   "outputs": [
    {
     "name": "stdin",
     "output_type": "stream",
     "text": [
      "2 ~ 9 중 하나의 숫자를 입력하세요.\n",
      " 2\n"
     ]
    },
    {
     "name": "stdout",
     "output_type": "stream",
     "text": [
      "2 * 1 = 2\n",
      "2 * 2 = 4\n",
      "2 * 3 = 6\n",
      "2 * 4 = 8\n",
      "2 * 5 = 10\n",
      "2 * 6 = 12\n",
      "2 * 7 = 14\n",
      "2 * 8 = 16\n",
      "2 * 9 = 18\n"
     ]
    }
   ],
   "source": [
    "# 사용자로부터 2 ~ 9 사이의 숫자를 입력 받은 후, 해당 숫자에 대한 구구단을 출력하세요.\n",
    "\n",
    "num = input(\"2 ~ 9 중 하나의 숫자를 입력하세요.\\n\")\n",
    "for i in range(9):\n",
    "    print(f\"{num} * {i + 1} = {int(num) * (i + 1)}\")"
   ]
  },
  {
   "cell_type": "code",
   "execution_count": 10,
   "metadata": {},
   "outputs": [
    {
     "name": "stdin",
     "output_type": "stream",
     "text": [
      "하나의 숫자를 입력하세요.\n",
      " 20\n"
     ]
    },
    {
     "name": "stdout",
     "output_type": "stream",
     "text": [
      "1 ~ 20 사이에 3의 배수입니다. \n",
      "3, 6, 9, 12, 15, 18\n"
     ]
    }
   ],
   "source": [
    "# 사용자로부터 숫자를 N을 입력받은 후 1부터 N까지의 숫자 중 3의 배수만 출력하세요.\n",
    "\n",
    "num = input(\"하나의 숫자를 입력하세요.\\n\")\n",
    "nums = [str(n) for n in list(range(1, int(num) + 1)) if n % 3 == 0] \n",
    "print(f\"1 ~ {num} 사이에 3의 배수입니다. \")\n",
    "print(\", \".join(nums))"
   ]
  },
  {
   "cell_type": "code",
   "execution_count": 13,
   "metadata": {},
   "outputs": [
    {
     "name": "stdout",
     "output_type": "stream",
     "text": [
      "     *\n",
      "    **\n",
      "   ***\n",
      "  ****\n",
      " *****\n"
     ]
    }
   ],
   "source": [
    "# 아래 코드를 변형하여 다음 모양을 출력하라\n",
    "#     *\n",
    "#    **\n",
    "#   ***\n",
    "#  ****\n",
    "# *****\n",
    "# for i in range(5):\n",
    "#     for j in range(5):\n",
    "#         print(\"*\", end=\"\")\n",
    "#     print()\n",
    "    \n",
    "for i in range(5):\n",
    "    for j in range(5 - i):\n",
    "        print(\" \", end=\"\")\n",
    "    for j in range(i + 1):\n",
    "        print(\"*\", end=\"\")\n",
    "    print()"
   ]
  },
  {
   "cell_type": "code",
   "execution_count": 14,
   "metadata": {},
   "outputs": [
    {
     "name": "stdin",
     "output_type": "stream",
     "text": [
      "문장을 입력하세요\n",
      " 반지원정대 이숙번, 강두루, 이고잉이 볼드모트를 잡으러 떠났다. 해리포터가 함께 했다. \n"
     ]
    },
    {
     "name": "stdout",
     "output_type": "stream",
     "text": [
      "반지원정대 ***, ***, ***이 ****를 잡으러 떠났다. 해리포터가 함께 했다. \n"
     ]
    }
   ],
   "source": [
    "# 사용자로부터 입력받은 문장에 금지어가 들어있는지를 확인하라.\n",
    "금지어 = ['볼드모트', '이숙번', '강두루', '이고잉']\n",
    "\n",
    "text = input(\"문장을 입력하세요\\n\")\n",
    "for w in 금지어:\n",
    "    text = text.replace(w, \"*\" * len(w))\n",
    "print(text)"
   ]
  },
  {
   "cell_type": "code",
   "execution_count": 56,
   "metadata": {},
   "outputs": [
    {
     "name": "stdin",
     "output_type": "stream",
     "text": [
      "숫자를 입력하세요\n",
      " 20\n"
     ]
    },
    {
     "name": "stdout",
     "output_type": "stream",
     "text": [
      "[1, 2, 3, 4, 5, 6, 7, 8, 9, 10, 11, 17, 12, 13, 14, 15, 16, 17, 18, 19]\n",
      "17\n"
     ]
    }
   ],
   "source": [
    "# 1부터 N까지의 연속된 숫자중 1개의 숫자만 중복이 되어있는 (N + 1)개의 숫자가 있다. \n",
    "# 중복된 숫자를 찾는 함수를 만들어보자 \n",
    "\n",
    "def find_duplicated_num(nums):\n",
    "    return sum(nums) - sum(set(nums))\n",
    "\n",
    "import random\n",
    "\n",
    "n = int(input(\"숫자를 입력하세요\\n\"))\n",
    "numbers = list(range(1, n)) \n",
    "numbers.insert(random.randint(1, n), random.randint(1, n))\n",
    "print(numbers)\n",
    "\n",
    "print(find_duplicated_num(numbers))"
   ]
  },
  {
   "cell_type": "code",
   "execution_count": 60,
   "metadata": {},
   "outputs": [
    {
     "name": "stdin",
     "output_type": "stream",
     "text": [
      "문자열을 입력하세요\n",
      " ASDFASDF\n"
     ]
    },
    {
     "name": "stdout",
     "output_type": "stream",
     "text": [
      "False\n"
     ]
    }
   ],
   "source": [
    "# palindrome\n",
    "# 순서대로 읽어도 거꾸로 읽어도 동일한 문자열을 체크하는 함수\n",
    "def palindrome(text):\n",
    "    return text == text[::-1]\n",
    "\n",
    "text = input(\"문자열을 입력하세요\\n\")\n",
    "print(palindrome(text))"
   ]
  },
  {
   "cell_type": "code",
   "execution_count": 67,
   "metadata": {},
   "outputs": [
    {
     "name": "stdout",
     "output_type": "stream",
     "text": [
      "{'Mr': 13, 'Mrs': 8, 'Master': 2, 'Miss': 7}\n",
      "{'Mr': 13, 'Mrs': 8, 'Master': 2, 'Miss': 7}\n"
     ]
    }
   ],
   "source": [
    "# Mr, Mrs, Master, Miss가 각각 몇번씩 나왔는지 빈도수를 출력해보자\n",
    "dataset = ['Braund, Mr. Owen Harris',\n",
    "'Cumings, Mrs. John Bradley (Florence Briggs Thayer)',\n",
    "'Heikkinen, Miss. Laina',\n",
    "'Futrelle, Mrs. Jacques Heath (Lily May Peel)',\n",
    "'Allen, Mr. William Henry',\n",
    "'Moran, Mr. James',\n",
    "'McCarthy, Mr. Timothy J',\n",
    "'Palsson, Master. Gosta Leonard',\n",
    "'Johnson, Mrs. Oscar W (Elisabeth Vilhelmina Berg)',\n",
    "'Nasser, Mrs. Nicholas (Adele Achem)',\n",
    "'Sandstrom, Miss. Marguerite Rut',\n",
    "'Bonnell, Miss. Elizabeth',\n",
    "'Saundercock, Mr. William Henry',\n",
    "'Andersson, Mr. Anders Johan',\n",
    "'Vestrom, Miss. Hulda Amanda Adolfina',\n",
    "'Hewlett, Mrs. (Mary D Kingcome) ',\n",
    "'Rice, Master. Eugene',\n",
    "'Williams, Mr. Charles Eugene',\n",
    "'Vander Planke, Mrs. Julius (Emelia Maria Vandemoortele)',\n",
    "'Masselmani, Mrs. Fatima',\n",
    "'Fynney, Mr. Joseph J',\n",
    "'Beesley, Mr. Lawrence',\n",
    "'McGowan, Miss. Anna \"Annie\"',\n",
    "'Sloper, Mr. William Thompson',\n",
    "'Palsson, Miss. Torborg Danira',\n",
    "'Asplund, Mrs. Carl Oscar (Selma Augusta Emilia Johansson)',\n",
    "'Emir, Mr. Farred Chehab',\n",
    "'Fortune, Mr. Charles Alexander',\n",
    "'Dwyer, Miss. Ellen \"Nellie\"',\n",
    "'Todoroff, Mr. Lalio']\n",
    "\n",
    "# 첫번째 방법\n",
    "count_title = {\n",
    "    \"Mr\": sum([r.count('Mr.') for r in dataset]),\n",
    "    \"Mrs\": sum([r.count('Mrs.') for r in dataset]),\n",
    "    \"Master\": sum([r.count('Master.') for r in dataset]),\n",
    "    \"Miss\": sum([r.count('Miss.') for r in dataset]),\n",
    "}\n",
    "print(count_title)\n",
    "\n",
    "# 두번째 방법\n",
    "titles = ['Mr', 'Mrs', 'Master', 'Miss']\n",
    "count_title = {t: sum([r.count(f'{t}.') for r in dataset]) for t in titles}\n",
    "print(count_title)"
   ]
  },
  {
   "cell_type": "code",
   "execution_count": 79,
   "metadata": {},
   "outputs": [
    {
     "data": {
      "text/plain": [
       "False"
      ]
     },
     "execution_count": 79,
     "metadata": {},
     "output_type": "execute_result"
    }
   ],
   "source": [
    "# 주민등록번호를 입력받아 올바른 주민번호인지 검증하라.\n",
    "# 주민번호 : ① ② ③ ④ ⑤ ⑥ - ⑦ ⑧ ⑨ ⑩ ⑪ ⑫ ⑬\n",
    "# 합계 \n",
    "# = 마지막수를 제외한 12자리의 숫자에 2,3,4,5,6,7,8,9,2,3,4,5 를 순서대로 곱산수의 합\n",
    "# = ①×2 + ②×3 + ③×4 + ④×5 + ⑤×6 + ⑥×7 + ⑦×8 + ⑧×9 + ⑨×2 + ⑩×3 + ⑪×4 + ⑫×5\n",
    "# 나머지 = 합계를 11로 나눈 나머지\n",
    "# 검증코드 = 11 - 나머지\n",
    "# 여기서 검증코드가 ⑬자리에 들어 갑니다.\n",
    "\n",
    "def verify_jumin(serial):\n",
    "    checks = [2, 3, 4, 5, 6, 7, 8, 9, 2, 3, 4, 5]\n",
    "    serial = serial.replace('-', '')    \n",
    "\n",
    "    if len(serial) != 13 or not serial.isnumeric():\n",
    "        return False\n",
    "    \n",
    "    verify = sum(i * int(j) for i, j in zip(checks, serial[:-1])) % 11\n",
    "    verify = 11 - (verify % 10) \n",
    "    \n",
    "    return verify == int(serial[-1])\n",
    "\n",
    "verify_jumin('111111-2222222')"
   ]
  },
  {
   "cell_type": "code",
   "execution_count": 92,
   "metadata": {},
   "outputs": [
    {
     "name": "stdout",
     "output_type": "stream",
     "text": [
      "[('신과나', [5, 5]), ('1917', [5, 4, 4]), ('라라랜드', [3, 3, 4]), ('엽문4', [2, 4]), ('엽문', [3]), ('주디', [5, 1, 2])]\n",
      "1.0\n",
      "4.414213562373095\n",
      "2.732050807568877\n"
     ]
    }
   ],
   "source": [
    "ratings = {\n",
    "     '이숙번': {'1917': 5, '엽문4': 2, '라라랜드': 3, '주디': 5},\n",
    "     '강두루': {'1917': 4, '라라랜드': 3, '신과나': 5},\n",
    "     '이고잉': {'라라랜드': 4, '엽문4': 4, '주디': 1},\n",
    "     '정원혁': {'엽문':3, '신과나': 5, '1917': 4, '주디': 2}\n",
    "}\n",
    "\n",
    "# 영화를 평균평점순으로 정렬\n",
    "def pivot_by_movies(ratings):\n",
    "    movies = {}\n",
    "    for name, record in ratings.items():\n",
    "        for m_name, m_rate in record.items():\n",
    "            if m_name not in movies:\n",
    "                movies[m_name] = []\n",
    "            movies[m_name].append(m_rate)\n",
    "\n",
    "    return movies\n",
    "\n",
    "movies = pivot_by_movies(ratings)\n",
    "result = sorted(movies.items(), key=lambda x: sum(x[1]) / len(x[1]), reverse=True)\n",
    "print(result)\n",
    "\n",
    "# 이숙번과 취향이 가장 비슷한 사람을 찾아라.\n",
    "import math \n",
    "def diff(user1, user2):\n",
    "    keys = set(user1.keys()).intersection(user2.keys())\n",
    "    absdiff = [abs(user1[k] - user2[k]) for k in keys]\n",
    "    distence = sum([math.sqrt(d) for d in  absdiff])\n",
    "    return distence\n",
    "\n",
    "print(diff(ratings['이숙번'], ratings['강두루']))\n",
    "print(diff(ratings['이숙번'], ratings['이고잉']))\n",
    "print(diff(ratings['이숙번'], ratings['정원혁']))"
   ]
  },
  {
   "cell_type": "code",
   "execution_count": null,
   "metadata": {},
   "outputs": [],
   "source": [
    "# 다음 뉴스 경제란 뉴스 타이틀 추출하기\n"
   ]
  },
  {
   "cell_type": "code",
   "execution_count": null,
   "metadata": {},
   "outputs": [],
   "source": [
    "# 네이버 실시간검색어 추출하기\n"
   ]
  },
  {
   "cell_type": "code",
   "execution_count": null,
   "metadata": {},
   "outputs": [],
   "source": []
  }
 ],
 "metadata": {
  "kernelspec": {
   "display_name": "Python 3",
   "language": "python",
   "name": "python3"
  },
  "language_info": {
   "codemirror_mode": {
    "name": "ipython",
    "version": 3
   },
   "file_extension": ".py",
   "mimetype": "text/x-python",
   "name": "python",
   "nbconvert_exporter": "python",
   "pygments_lexer": "ipython3",
   "version": "3.7.3"
  }
 },
 "nbformat": 4,
 "nbformat_minor": 4
}
