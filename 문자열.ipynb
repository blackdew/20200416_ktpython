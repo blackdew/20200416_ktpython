{
 "cells": [
  {
   "cell_type": "code",
   "execution_count": null,
   "metadata": {},
   "outputs": [],
   "source": [
    "text = \"When an Open Data standard is created and promoted, it’s important to think why - what change is this trying to drive? What will people do with this data that they couldn’t do before?\""
   ]
  },
  {
   "cell_type": "code",
   "execution_count": null,
   "metadata": {},
   "outputs": [],
   "source": [
    "dir(text)"
   ]
  },
  {
   "cell_type": "code",
   "execution_count": null,
   "metadata": {},
   "outputs": [],
   "source": [
    "set(text.lower()) - set(' abcdefghijklmnopqrstuvwxyz')"
   ]
  },
  {
   "cell_type": "code",
   "execution_count": null,
   "metadata": {},
   "outputs": [],
   "source": [
    "text.split(' ')"
   ]
  },
  {
   "cell_type": "code",
   "execution_count": null,
   "metadata": {},
   "outputs": [],
   "source": [
    "song = \"let it be\""
   ]
  },
  {
   "cell_type": "code",
   "execution_count": null,
   "metadata": {},
   "outputs": [],
   "source": [
    "song.capitalize()"
   ]
  },
  {
   "cell_type": "code",
   "execution_count": null,
   "metadata": {},
   "outputs": [],
   "source": [
    "song.title()"
   ]
  },
  {
   "cell_type": "code",
   "execution_count": null,
   "metadata": {},
   "outputs": [],
   "source": [
    "# 1 ~ 10000 적으면, 8이라는 숫자는 몇 번 등장할까요?\n",
    "str(list(range(1, 10000))).count('8')"
   ]
  },
  {
   "cell_type": "code",
   "execution_count": 26,
   "metadata": {},
   "outputs": [],
   "source": [
    "lyrics = \"\"\"\n",
    "When I find myself in times of trouble\n",
    "Mother Mary comes to me\n",
    "Speaking words of wisdom, let it be.\n",
    "And in my hour of darkness\n",
    "She is standing right in front of me\n",
    "Speaking words of wisdom, let it be.\n",
    "Let it be, let it be.\n",
    "Whisper words of wisdom, let it be.\n",
    "And when the broken hearted people\n",
    "Living in the world agree,\n",
    "There will be an answer, let it be.\n",
    "For though they may be parted there is\n",
    "Still a chance that they will see\n",
    "There will be an answer, let it be\n",
    "Let it be, let it be. Yeah\n",
    "There will be an answer, let it be.\n",
    "And when the night is cloudy,\n",
    "There is still a light that…\n",
    "\"\"\""
   ]
  },
  {
   "cell_type": "code",
   "execution_count": 36,
   "metadata": {},
   "outputs": [
    {
     "name": "stdout",
     "output_type": "stream",
     "text": [
      "{'.', '\\n', ',', '…'}\n",
      "when i find myself in times of troublemother mary comes to mespeaking words of wisdom let it beand in my hour of darknessshe is standing right in front of mespeaking words of wisdom let it belet it be let it bewhisper words of wisdom let it beand when the broken hearted peopleliving in the world agreethere will be an answer let it befor though they may be parted there isstill a chance that they will seethere will be an answer let it belet it be let it be yeahthere will be an answer let it beand when the night is cloudythere is still a light that\n"
     ]
    }
   ],
   "source": [
    "# 소문자\n",
    "lyrics = lyrics.lower()\n",
    "\n",
    "# 특수문자 찾기\n",
    "chrs = set(lyrics) - set(' abcdefghijklmnopqrstuvwxyz')\n",
    "print(chrs)\n",
    "\n",
    "# chrs의 특수문자를 하나씩 꺼내서 lyrics 문자열 replace\n",
    "for c in chrs:\n",
    "    lyrics = lyrics.replace(c, '')\n",
    "    \n",
    "print(lyrics)"
   ]
  },
  {
   "cell_type": "code",
   "execution_count": null,
   "metadata": {},
   "outputs": [],
   "source": []
  }
 ],
 "metadata": {
  "kernelspec": {
   "display_name": "Python 3",
   "language": "python",
   "name": "python3"
  },
  "language_info": {
   "codemirror_mode": {
    "name": "ipython",
    "version": 3
   },
   "file_extension": ".py",
   "mimetype": "text/x-python",
   "name": "python",
   "nbconvert_exporter": "python",
   "pygments_lexer": "ipython3",
   "version": "3.8.2"
  }
 },
 "nbformat": 4,
 "nbformat_minor": 4
}
