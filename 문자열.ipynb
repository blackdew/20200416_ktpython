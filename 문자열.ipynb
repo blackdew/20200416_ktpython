{
 "cells": [
  {
   "cell_type": "code",
   "execution_count": null,
   "metadata": {},
   "outputs": [],
   "source": [
    "text = \"When an Open Data standard is created and promoted, it’s important to think why - what change is this trying to drive? What will people do with this data that they couldn’t do before?\""
   ]
  },
  {
   "cell_type": "code",
   "execution_count": null,
   "metadata": {},
   "outputs": [],
   "source": [
    "dir(text)"
   ]
  },
  {
   "cell_type": "code",
   "execution_count": null,
   "metadata": {},
   "outputs": [],
   "source": [
    "set(text.lower()) - set(' abcdefghijklmnopqrstuvwxyz')"
   ]
  },
  {
   "cell_type": "code",
   "execution_count": null,
   "metadata": {},
   "outputs": [],
   "source": [
    "text.split(' ')"
   ]
  },
  {
   "cell_type": "code",
   "execution_count": null,
   "metadata": {},
   "outputs": [],
   "source": [
    "song = \"let it be\""
   ]
  },
  {
   "cell_type": "code",
   "execution_count": null,
   "metadata": {},
   "outputs": [],
   "source": [
    "song.capitalize()"
   ]
  },
  {
   "cell_type": "code",
   "execution_count": null,
   "metadata": {},
   "outputs": [],
   "source": [
    "song.title()"
   ]
  },
  {
   "cell_type": "code",
   "execution_count": null,
   "metadata": {},
   "outputs": [],
   "source": [
    "# 1 ~ 10000 적으면, 8이라는 숫자는 몇 번 등장할까요?\n",
    "str(list(range(1, 10000))).count('8')"
   ]
  },
  {
   "cell_type": "code",
   "execution_count": 26,
   "metadata": {},
   "outputs": [],
   "source": [
    "lyrics = \"\"\"\n",
    "When I find myself in times of trouble\n",
    "Mother Mary comes to me\n",
    "Speaking words of wisdom, let it be.\n",
    "And in my hour of darkness\n",
    "She is standing right in front of me\n",
    "Speaking words of wisdom, let it be.\n",
    "Let it be, let it be.\n",
    "Whisper words of wisdom, let it be.\n",
    "And when the broken hearted people\n",
    "Living in the world agree,\n",
    "There will be an answer, let it be.\n",
    "For though they may be parted there is\n",
    "Still a chance that they will see\n",
    "There will be an answer, let it be\n",
    "Let it be, let it be. Yeah\n",
    "There will be an answer, let it be.\n",
    "And when the night is cloudy,\n",
    "There is still a light that…\n",
    "\"\"\""
   ]
  },
  {
   "cell_type": "code",
   "execution_count": 36,
   "metadata": {},
   "outputs": [
    {
     "name": "stdout",
     "output_type": "stream",
     "text": [
      "{'.', '\\n', ',', '…'}\n",
      "when i find myself in times of troublemother mary comes to mespeaking words of wisdom let it beand in my hour of darknessshe is standing right in front of mespeaking words of wisdom let it belet it be let it bewhisper words of wisdom let it beand when the broken hearted peopleliving in the world agreethere will be an answer let it befor though they may be parted there isstill a chance that they will seethere will be an answer let it belet it be let it be yeahthere will be an answer let it beand when the night is cloudythere is still a light that\n"
     ]
    }
   ],
   "source": [
    "# 소문자\n",
    "lyrics = lyrics.lower()\n",
    "\n",
    "# 특수문자 찾기\n",
    "chrs = set(lyrics) - set(' abcdefghijklmnopqrstuvwxyz')\n",
    "print(chrs)\n",
    "\n",
    "# chrs의 특수문자를 하나씩 꺼내서 lyrics 문자열 replace\n",
    "for c in chrs:\n",
    "    lyrics = lyrics.replace(c, '')\n",
    "    \n",
    "print(lyrics)"
   ]
  },
  {
   "cell_type": "code",
   "execution_count": 45,
   "metadata": {},
   "outputs": [
    {
     "name": "stdout",
     "output_type": "stream",
     "text": [
      "True\n",
      "False\n",
      "{'when': 3, 'i': 1, 'find': 1, 'myself': 1, 'in': 4, 'times': 1, 'of': 6, 'troublemother': 1, 'mary': 1, 'comes': 1, 'to': 1, 'mespeaking': 2, 'words': 3, 'wisdom': 3, 'let': 8, 'it': 10, 'beand': 3, 'my': 1, 'hour': 1, 'darknessshe': 1, 'is': 3, 'standing': 1, 'right': 1, 'front': 1, 'belet': 2, 'be': 7, 'bewhisper': 1, 'the': 3, 'broken': 1, 'hearted': 1, 'peopleliving': 1, 'world': 1, 'agreethere': 1, 'will': 4, 'an': 3, 'answer': 3, 'befor': 1, 'though': 1, 'they': 2, 'may': 1, 'parted': 1, 'there': 1, 'isstill': 1, 'a': 2, 'chance': 1, 'that': 2, 'seethere': 1, 'yeahthere': 1, 'night': 1, 'cloudythere': 1, 'still': 1, 'light': 1}\n"
     ]
    }
   ],
   "source": [
    "# ' '(공백)을 기준으로 단어 분리\n",
    "words = lyrics.split(' ')\n",
    "\n",
    "# word_dict: {'word': 1, 'when': 1, 'i': 3}\n",
    "word_dict = {}\n",
    "\n",
    "print('word' in {'word': 1, 'when': 1, 'i': 3})\n",
    "print('you' in {'word': 1, 'when': 1, 'i': 3})\n",
    "\n",
    "for w in words:\n",
    "    if w not in word_dict:\n",
    "        word_dict[w] = 1\n",
    "    else:\n",
    "        # word_dict[w] = word_dict[w] + 1\n",
    "        word_dict[w] += 1\n",
    "\n",
    "print(word_dict)"
   ]
  },
  {
   "cell_type": "code",
   "execution_count": 42,
   "metadata": {},
   "outputs": [
    {
     "name": "stdout",
     "output_type": "stream",
     "text": [
      "bc\n",
      "abc\n"
     ]
    }
   ],
   "source": [
    "text = 'abc'\n",
    "print(text.replace('a', ''))\n",
    "print(text)"
   ]
  },
  {
   "cell_type": "code",
   "execution_count": 44,
   "metadata": {},
   "outputs": [
    {
     "name": "stdout",
     "output_type": "stream",
     "text": [
      "c\n"
     ]
    }
   ],
   "source": [
    "for c in ['a', 'b']:\n",
    "    text = text.replace(c, '')\n",
    "    \n",
    "print(text)"
   ]
  },
  {
   "cell_type": "code",
   "execution_count": null,
   "metadata": {},
   "outputs": [],
   "source": []
  }
 ],
 "metadata": {
  "kernelspec": {
   "display_name": "Python 3",
   "language": "python",
   "name": "python3"
  },
  "language_info": {
   "codemirror_mode": {
    "name": "ipython",
    "version": 3
   },
   "file_extension": ".py",
   "mimetype": "text/x-python",
   "name": "python",
   "nbconvert_exporter": "python",
   "pygments_lexer": "ipython3",
   "version": "3.8.2"
  }
 },
 "nbformat": 4,
 "nbformat_minor": 4
}
