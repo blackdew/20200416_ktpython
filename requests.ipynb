{
 "cells": [
  {
   "cell_type": "code",
   "execution_count": 1,
   "metadata": {},
   "outputs": [],
   "source": [
    "import requests"
   ]
  },
  {
   "cell_type": "code",
   "execution_count": 4,
   "metadata": {},
   "outputs": [
    {
     "data": {
      "text/plain": [
       "200"
      ]
     },
     "execution_count": 4,
     "metadata": {},
     "output_type": "execute_result"
    }
   ],
   "source": [
    "response = requests.get('http://info.cern.ch/')\n",
    "response.status_code"
   ]
  },
  {
   "cell_type": "code",
   "execution_count": 5,
   "metadata": {},
   "outputs": [
    {
     "name": "stdout",
     "output_type": "stream",
     "text": [
      "<html><head></head><body><header>\n",
      "<title>http://info.cern.ch</title>\n",
      "</header>\n",
      "\n",
      "<h1>http://info.cern.ch - home of the first website</h1>\n",
      "<p>From here you can:</p>\n",
      "<ul>\n",
      "<li><a href=\"http://info.cern.ch/hypertext/WWW/TheProject.html\">Browse the first website</a></li>\n",
      "<li><a href=\"http://line-mode.cern.ch/www/hypertext/WWW/TheProject.html\">Browse the first website using the line-mode browser simulator</a></li>\n",
      "<li><a href=\"http://home.web.cern.ch/topics/birth-web\">Learn about the birth of the web</a></li>\n",
      "<li><a href=\"http://home.web.cern.ch/about\">Learn about CERN, the physics laboratory where the web was born</a></li>\n",
      "</ul>\n",
      "</body></html>\n",
      "\n"
     ]
    }
   ],
   "source": [
    "print(response.text)"
   ]
  },
  {
   "cell_type": "code",
   "execution_count": 6,
   "metadata": {},
   "outputs": [
    {
     "data": {
      "text/plain": [
       "['http://info.cern.ch/hypertext/WWW/TheProject.html',\n",
       " 'http://line-mode.cern.ch/www/hypertext/WWW/TheProject.html',\n",
       " 'http://home.web.cern.ch/topics/birth-web',\n",
       " 'http://home.web.cern.ch/about']"
      ]
     },
     "execution_count": 6,
     "metadata": {},
     "output_type": "execute_result"
    }
   ],
   "source": [
    "import re\n",
    "    \n",
    "regex = re.compile('href=\"(.+)\"')\n",
    "re.findall(regex, response.text)"
   ]
  },
  {
   "cell_type": "code",
   "execution_count": 36,
   "metadata": {},
   "outputs": [],
   "source": [
    "import re\n",
    "import requests\n",
    "\n",
    "def get_urls(url):\n",
    "    response = requests.get(url)\n",
    "    \n",
    "    if response.status_code == 200:\n",
    "        regex = re.compile('href=[\"\\'](http.+)[\"\\']')\n",
    "        return re.findall(regex, response.text)\n",
    "    else:\n",
    "        return []\n"
   ]
  },
  {
   "cell_type": "code",
   "execution_count": 38,
   "metadata": {},
   "outputs": [
    {
     "name": "stdout",
     "output_type": "stream",
     "text": [
      "4\n",
      "http://info.cern.ch/hypertext/WWW/TheProject.html 3\n",
      "http://line-mode.cern.ch/www/hypertext/WWW/TheProject.html 2\n",
      "http://home.web.cern.ch/topics/birth-web 21\n",
      "http://home.web.cern.ch/about 33\n",
      "https://home.cern/science/computing/birth-web 52\n",
      "https://home.cern/science/computing/birth-web 71\n",
      "https://home.cern/fr/science/computing/birth-web 90\n",
      "https://home.cern/science/computing/birth-web 109\n",
      "https://first-website.web.cern.ch/\">a project to restore this first ever website</a>: <a href=\"http://info.cern.ch 108\n",
      "http://info.cern.ch/hypertext/WWW/TheProject.html'\"  id=\"preview-card--10\" class=\"component-preview-cards box-pattern portrait landing_page\" style=\"background:url(&#039;/sites/home.web.cern.ch/files/2018-10/Screenshot_2018-10-09%20The%20World%20Wide%20Web%20project_1.png&#039;) no-repeat center center / cover\" data-background=\"/sites/home.web.cern.ch/files/2018-10/Screenshot_2018-10-09%20The%20World%20Wide%20Web%20project_1.png 107\n",
      "http://info.cern.ch/hypertext/WWW/TheProject.html\" title=\"Browse the first website 106\n"
     ]
    }
   ],
   "source": [
    "link = 'http://info.cern.ch'\n",
    "links = get_urls(link)\n",
    "print(len(links))\n",
    "\n",
    "count = 0\n",
    "while len(links) > 0:\n",
    "    link = links.pop(0)\n",
    "    links += get_urls(link)\n",
    "    print(link, len(links))\n",
    "    \n",
    "    count += 1\n",
    "    if count > 10:\n",
    "        break\n"
   ]
  },
  {
   "cell_type": "code",
   "execution_count": 33,
   "metadata": {},
   "outputs": [
    {
     "name": "stdout",
     "output_type": "stream",
     "text": [
      "[]\n"
     ]
    }
   ],
   "source": [
    "link = 'http://line-mode.cern.ch/www/hypertext/WWW/TheProject.html'\n",
    "links = get_urls(link)\n",
    "print(links)"
   ]
  },
  {
   "cell_type": "code",
   "execution_count": 34,
   "metadata": {},
   "outputs": [
    {
     "name": "stdout",
     "output_type": "stream",
     "text": [
      "['https://home.cern/science/computing/birth-web', 'https://home.cern/science/computing/birth-web', 'https://home.cern/fr/science/computing/birth-web', 'https://home.cern/science/computing/birth-web', 'https://first-website.web.cern.ch/\">a\\xa0project to restore this first ever website</a>:\\xa0<a href=\"http://info.cern.ch', 'http://info.cern.ch/hypertext/WWW/TheProject.html\\'\"  id=\"preview-card--10\" class=\"component-preview-cards box-pattern portrait landing_page\" style=\"background:url(&#039;/sites/home.web.cern.ch/files/2018-10/Screenshot_2018-10-09%20The%20World%20Wide%20Web%20project_1.png&#039;) no-repeat center center / cover\" data-background=\"/sites/home.web.cern.ch/files/2018-10/Screenshot_2018-10-09%20The%20World%20Wide%20Web%20project_1.png', 'http://info.cern.ch/hypertext/WWW/TheProject.html\" title=\"Browse the first website', 'https://cern.ch/worldwideweb\\'\"  id=\"preview-card--11\" class=\"component-preview-cards box-pattern portrait landing_page\" style=\"background:url(&#039;/sites/home.web.cern.ch/files/2018-10/blessing-blog.jpg&#039;) no-repeat center center / cover\" data-background=\"/sites/home.web.cern.ch/files/2018-10/blessing-blog.jpg', 'https://cern.ch/worldwideweb\" title=\"The WorldWideWeb browser', 'http://line-mode.cern.ch/\\'\"  id=\"preview-card--12\" class=\"component-preview-cards box-pattern portrait landing_page\" style=\"background:url(&#039;//cds.cern.ch/images/CERN-HOMEWEB-PHO-2019-004-1/file?size=medium&#039;) no-repeat center center / cover\" data-background=\"//cds.cern.ch/images/CERN-HOMEWEB-PHO-2019-004-1/file?size=medium', 'http://line-mode.cern.ch/\" title=\"The line-mode browser', 'http://www.facebook.com/cern\">v</a> <a href=\"http://www.instagram.com/cern\">J</a> <a href=\"http://www.twitter.com/CERN\">W</a> <a href=\"http://www.linkedin.com/company/cern\">M</a> <a href=\"http://www.youtube.com/user/cerntv', 'http://cern.ch/procurement', 'https://cern.ch/knowledgetransfer', 'https://voisins.web.cern.ch/en', 'https://cernandsocietyfoundation.cern', 'https://alumni.cern', 'https://careers.cern', 'https://visit.cern/', 'https://copyright.web.cern.ch/']\n"
     ]
    }
   ],
   "source": [
    "link = 'http://home.web.cern.ch/topics/birth-web'\n",
    "links = get_urls(link)\n",
    "print(links)"
   ]
  },
  {
   "cell_type": "code",
   "execution_count": null,
   "metadata": {},
   "outputs": [],
   "source": [
    "link = 'http://home.web.cern.ch/topics/birth-web'\n",
    "links = get_urls(link)\n",
    "print(links)"
   ]
  }
 ],
 "metadata": {
  "kernelspec": {
   "display_name": "Python 3",
   "language": "python",
   "name": "python3"
  },
  "language_info": {
   "codemirror_mode": {
    "name": "ipython",
    "version": 3
   },
   "file_extension": ".py",
   "mimetype": "text/x-python",
   "name": "python",
   "nbconvert_exporter": "python",
   "pygments_lexer": "ipython3",
   "version": "3.8.2"
  }
 },
 "nbformat": 4,
 "nbformat_minor": 4
}
