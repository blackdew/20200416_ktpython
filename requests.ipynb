{
 "cells": [
  {
   "cell_type": "code",
   "execution_count": 1,
   "metadata": {},
   "outputs": [],
   "source": [
    "import requests"
   ]
  },
  {
   "cell_type": "code",
   "execution_count": 4,
   "metadata": {},
   "outputs": [
    {
     "data": {
      "text/plain": [
       "200"
      ]
     },
     "execution_count": 4,
     "metadata": {},
     "output_type": "execute_result"
    }
   ],
   "source": [
    "response = requests.get('http://info.cern.ch/')\n",
    "response.status_code"
   ]
  },
  {
   "cell_type": "code",
   "execution_count": 5,
   "metadata": {},
   "outputs": [
    {
     "name": "stdout",
     "output_type": "stream",
     "text": [
      "<html><head></head><body><header>\n",
      "<title>http://info.cern.ch</title>\n",
      "</header>\n",
      "\n",
      "<h1>http://info.cern.ch - home of the first website</h1>\n",
      "<p>From here you can:</p>\n",
      "<ul>\n",
      "<li><a href=\"http://info.cern.ch/hypertext/WWW/TheProject.html\">Browse the first website</a></li>\n",
      "<li><a href=\"http://line-mode.cern.ch/www/hypertext/WWW/TheProject.html\">Browse the first website using the line-mode browser simulator</a></li>\n",
      "<li><a href=\"http://home.web.cern.ch/topics/birth-web\">Learn about the birth of the web</a></li>\n",
      "<li><a href=\"http://home.web.cern.ch/about\">Learn about CERN, the physics laboratory where the web was born</a></li>\n",
      "</ul>\n",
      "</body></html>\n",
      "\n"
     ]
    }
   ],
   "source": [
    "print(response.text)"
   ]
  },
  {
   "cell_type": "code",
   "execution_count": 6,
   "metadata": {},
   "outputs": [
    {
     "data": {
      "text/plain": [
       "['http://info.cern.ch/hypertext/WWW/TheProject.html',\n",
       " 'http://line-mode.cern.ch/www/hypertext/WWW/TheProject.html',\n",
       " 'http://home.web.cern.ch/topics/birth-web',\n",
       " 'http://home.web.cern.ch/about']"
      ]
     },
     "execution_count": 6,
     "metadata": {},
     "output_type": "execute_result"
    }
   ],
   "source": [
    "import re\n",
    "    \n",
    "regex = re.compile('href=\"(.+)\"')\n",
    "re.findall(regex, response.text)"
   ]
  },
  {
   "cell_type": "code",
   "execution_count": 12,
   "metadata": {},
   "outputs": [
    {
     "data": {
      "text/plain": [
       "['/static/style.css',\n",
       " '/',\n",
       " '/Flask',\n",
       " '/Python',\n",
       " '/CSS',\n",
       " '/HTML',\n",
       " '/Javascript',\n",
       " '/Django',\n",
       " '/login',\n",
       " '/create',\n",
       " '/delete/Welcome ']"
      ]
     },
     "execution_count": 12,
     "metadata": {},
     "output_type": "execute_result"
    }
   ],
   "source": [
    "import re\n",
    "import requests\n",
    "\n",
    "def get_urls(url):\n",
    "    response = requests.get(url)\n",
    "    \n",
    "    if response.status_code == 200:\n",
    "        regex = re.compile('href=[\"\\'](.+)[\"\\']')\n",
    "        return re.findall(regex, response.text)\n",
    "    else:\n",
    "        return []\n",
    "\n",
    "get_urls('http://localhost:5001')"
   ]
  },
  {
   "cell_type": "code",
   "execution_count": null,
   "metadata": {},
   "outputs": [],
   "source": []
  }
 ],
 "metadata": {
  "kernelspec": {
   "display_name": "Python 3",
   "language": "python",
   "name": "python3"
  },
  "language_info": {
   "codemirror_mode": {
    "name": "ipython",
    "version": 3
   },
   "file_extension": ".py",
   "mimetype": "text/x-python",
   "name": "python",
   "nbconvert_exporter": "python",
   "pygments_lexer": "ipython3",
   "version": "3.8.2"
  }
 },
 "nbformat": 4,
 "nbformat_minor": 4
}
