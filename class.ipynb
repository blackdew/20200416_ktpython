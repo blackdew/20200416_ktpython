{
 "cells": [
  {
   "cell_type": "code",
   "execution_count": 4,
   "metadata": {},
   "outputs": [
    {
     "name": "stdout",
     "output_type": "stream",
     "text": [
      "['append', 'clear', 'copy', 'count', 'extend', 'index', 'insert', 'pop', 'remove', 'reverse', 'sort']\n"
     ]
    }
   ],
   "source": [
    "a = [1, 2, 3, 4, 5, 6, 7]\n",
    "list(map(lambda x: x ** 2, a))\n",
    "print([e for e in dir(a) if \"_\" not in e])"
   ]
  },
  {
   "cell_type": "code",
   "execution_count": 6,
   "metadata": {},
   "outputs": [
    {
     "name": "stdout",
     "output_type": "stream",
     "text": [
      "[1, 4, 9, 16, 25, 36, 49]\n",
      "['append', 'clear', 'copy', 'count', 'extend', 'index', 'insert', 'map', 'pop', 'remove', 'reverse', 'sort']\n"
     ]
    }
   ],
   "source": [
    "class mylist(list):\n",
    "    def map(self, f):\n",
    "        return list(map(f, self))\n",
    "    \n",
    "b = mylist(a)\n",
    "print(b.map(lambda x: x ** 2))\n",
    "print([e for e in dir(b) if \"_\" not in e])"
   ]
  },
  {
   "cell_type": "code",
   "execution_count": 8,
   "metadata": {},
   "outputs": [
    {
     "data": {
      "text/plain": [
       "[<a href=\"http://info.cern.ch/hypertext/WWW/TheProject.html\">Browse the first website</a>,\n",
       " <a href=\"http://line-mode.cern.ch/www/hypertext/WWW/TheProject.html\">Browse the first website using the line-mode browser simulator</a>,\n",
       " <a href=\"http://home.web.cern.ch/topics/birth-web\">Learn about the birth of the web</a>,\n",
       " <a href=\"http://home.web.cern.ch/about\">Learn about CERN, the physics laboratory where the web was born</a>]"
      ]
     },
     "execution_count": 8,
     "metadata": {},
     "output_type": "execute_result"
    }
   ],
   "source": [
    "import requests\n",
    "from bs4 import BeautifulSoup\n",
    "\n",
    "res = requests.get('http://info.cern.ch')\n",
    "soup = BeautifulSoup(res.content, \"html.parser\")\n",
    "soup.select('a')"
   ]
  },
  {
   "cell_type": "code",
   "execution_count": 10,
   "metadata": {},
   "outputs": [
    {
     "data": {
      "text/plain": [
       "[<a href=\"http://info.cern.ch/hypertext/WWW/TheProject.html\">Browse the first website</a>,\n",
       " <a href=\"http://line-mode.cern.ch/www/hypertext/WWW/TheProject.html\">Browse the first website using the line-mode browser simulator</a>,\n",
       " <a href=\"http://home.web.cern.ch/topics/birth-web\">Learn about the birth of the web</a>,\n",
       " <a href=\"http://home.web.cern.ch/about\">Learn about CERN, the physics laboratory where the web was born</a>]"
      ]
     },
     "execution_count": 10,
     "metadata": {},
     "output_type": "execute_result"
    }
   ],
   "source": [
    "class MySoup(BeautifulSoup):\n",
    "    def __init__(self, url):\n",
    "        import requests\n",
    "        res = requests.get(url)\n",
    "        BeautifulSoup.__init__(self, res.content, 'html.parser')\n",
    "\n",
    "soup = MySoup(\"http://info.cern.ch\")\n",
    "soup.select('a')"
   ]
  },
  {
   "cell_type": "code",
   "execution_count": null,
   "metadata": {},
   "outputs": [],
   "source": []
  }
 ],
 "metadata": {
  "kernelspec": {
   "display_name": "Python 3",
   "language": "python",
   "name": "python3"
  },
  "language_info": {
   "codemirror_mode": {
    "name": "ipython",
    "version": 3
   },
   "file_extension": ".py",
   "mimetype": "text/x-python",
   "name": "python",
   "nbconvert_exporter": "python",
   "pygments_lexer": "ipython3",
   "version": "3.8.2"
  }
 },
 "nbformat": 4,
 "nbformat_minor": 4
}
