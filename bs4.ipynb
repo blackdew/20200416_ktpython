{
 "cells": [
  {
   "cell_type": "code",
   "execution_count": 8,
   "metadata": {},
   "outputs": [
    {
     "name": "stdout",
     "output_type": "stream",
     "text": [
      "<a href=\"http://info.cern.ch/hypertext/WWW/TheProject.html\">Browse the first website</a>\n",
      "http://info.cern.ch/hypertext/WWW/TheProject.html\n",
      "Browse the first website\n"
     ]
    }
   ],
   "source": [
    "import requests\n",
    "from bs4 import BeautifulSoup\n",
    "\n",
    "res = requests.get(\"http://info.cern.ch\")\n",
    "soup = BeautifulSoup(res.content, 'html.parser')\n",
    "\n",
    "print(soup.html.body.ul.li.a)\n",
    "print(soup.html.body.ul.li.a['href'])\n",
    "print(soup.html.body.ul.li.a.get_text())"
   ]
  },
  {
   "cell_type": "code",
   "execution_count": 15,
   "metadata": {},
   "outputs": [
    {
     "name": "stdout",
     "output_type": "stream",
     "text": [
      "\n",
      "http://info.cern.ch\n",
      "\n",
      "http://info.cern.ch - home of the first website\n",
      "From here you can:\n",
      "\n",
      "Browse the first website\n",
      "Browse the first website using the line-mode browser simulator\n",
      "Learn about the birth of the web\n",
      "Learn about CERN, the physics laboratory where the web was born\n",
      "\n",
      "\n"
     ]
    }
   ],
   "source": [
    "print(soup.html.body.get_text())"
   ]
  },
  {
   "cell_type": "code",
   "execution_count": 18,
   "metadata": {},
   "outputs": [
    {
     "data": {
      "text/plain": [
       "'From here you can:'"
      ]
     },
     "execution_count": 18,
     "metadata": {},
     "output_type": "execute_result"
    }
   ],
   "source": [
    "soup.select(\"p\")[0].get_text()"
   ]
  },
  {
   "cell_type": "code",
   "execution_count": null,
   "metadata": {},
   "outputs": [],
   "source": []
  }
 ],
 "metadata": {
  "kernelspec": {
   "display_name": "Python 3",
   "language": "python",
   "name": "python3"
  },
  "language_info": {
   "codemirror_mode": {
    "name": "ipython",
    "version": 3
   },
   "file_extension": ".py",
   "mimetype": "text/x-python",
   "name": "python",
   "nbconvert_exporter": "python",
   "pygments_lexer": "ipython3",
   "version": "3.8.2"
  }
 },
 "nbformat": 4,
 "nbformat_minor": 4
}
