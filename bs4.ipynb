{
 "cells": [
  {
   "cell_type": "code",
   "execution_count": 8,
   "metadata": {},
   "outputs": [
    {
     "name": "stdout",
     "output_type": "stream",
     "text": [
      "<a href=\"http://info.cern.ch/hypertext/WWW/TheProject.html\">Browse the first website</a>\n",
      "http://info.cern.ch/hypertext/WWW/TheProject.html\n",
      "Browse the first website\n"
     ]
    }
   ],
   "source": [
    "import requests\n",
    "from bs4 import BeautifulSoup\n",
    "\n",
    "res = requests.get(\"http://info.cern.ch\")\n",
    "soup = BeautifulSoup(res.content, 'html.parser')\n",
    "\n",
    "print(soup.html.body.ul.li.a)\n",
    "print(soup.html.body.ul.li.a['href'])\n",
    "print(soup.html.body.ul.li.a.get_text())"
   ]
  },
  {
   "cell_type": "code",
   "execution_count": 15,
   "metadata": {},
   "outputs": [
    {
     "name": "stdout",
     "output_type": "stream",
     "text": [
      "\n",
      "http://info.cern.ch\n",
      "\n",
      "http://info.cern.ch - home of the first website\n",
      "From here you can:\n",
      "\n",
      "Browse the first website\n",
      "Browse the first website using the line-mode browser simulator\n",
      "Learn about the birth of the web\n",
      "Learn about CERN, the physics laboratory where the web was born\n",
      "\n",
      "\n"
     ]
    }
   ],
   "source": [
    "print(soup.html.body.get_text())"
   ]
  },
  {
   "cell_type": "code",
   "execution_count": 18,
   "metadata": {},
   "outputs": [
    {
     "data": {
      "text/plain": [
       "'From here you can:'"
      ]
     },
     "execution_count": 18,
     "metadata": {},
     "output_type": "execute_result"
    }
   ],
   "source": [
    "soup.select(\"p\")[0].get_text()"
   ]
  },
  {
   "cell_type": "code",
   "execution_count": 44,
   "metadata": {},
   "outputs": [
    {
     "name": "stdout",
     "output_type": "stream",
     "text": [
      "[{'개봉일': '2020.02.19', '관객수': '25647', '제목': '1917', '평점': '7.3'},\n",
      " {'개봉일': '2016.12.07', '관객수': '22914', '제목': '라라랜드', '평점': '8.0'},\n",
      " {'개봉일': '2020.04.15', '관객수': '20627', '제목': '서치 아웃', '평점': '5.8'},\n",
      " {'개봉일': '2020.04.15', '관객수': '18992', '제목': '건즈 아킴보', '평점': '5.5'},\n",
      " {'개봉일': '2020.04.08', '관객수': '12070', '제목': '오픈 더 도어 ', '평점': '6.3'},\n",
      " {'개봉일': '2020.04.01', '관객수': '11879', '제목': '엽문4: 더 파이널', '평점': '6.5'},\n",
      " {'개봉일': '2020.04.15', '관객수': '10666', '제목': '비밀정보원: 인 더 프리즌 ', '평점': '7.6'},\n",
      " {'개봉일': '2020.04.15', '관객수': '8160', '제목': '유령선', '평점': '9.0'},\n",
      " {'개봉일': '2020.03.25', '관객수': '6013', '제목': '주디', '평점': '8.1'},\n",
      " {'개봉일': '2020.04.15', '관객수': '5898', '제목': '라라걸', '평점': '9.6'}]\n"
     ]
    }
   ],
   "source": [
    "import re\n",
    "import requests\n",
    "from bs4 import BeautifulSoup\n",
    "\n",
    "res = requests.get('https://movie.daum.net/boxoffice/weekly')\n",
    "soup = BeautifulSoup(res.content, 'html.parser')\n",
    "\n",
    "movies = []\n",
    "for tag in soup.select('.desc_boxthumb'):\n",
    "    text = tag.select(\".list_state\")[0].get_text()    \n",
    "    regex = re.compile(\"주간관객 (\\d+)명\\n개봉일\\n([0-9.]+) 개봉\")\n",
    "    관객수, 개봉일 = re.findall(regex, text)[0]\n",
    "    movies.append({\n",
    "        '제목': tag.select(\".link_g\")[0].get_text(),\n",
    "        '평점': tag.select(\".emph_grade\")[0].get_text(),\n",
    "        '관객수': 관객수,\n",
    "        '개봉일': 개봉일,\n",
    "    })\n",
    "\n",
    "import pprint\n",
    "pprint.pprint(movies)\n",
    "    \n",
    "# soup.select('.desc_boxthumb')"
   ]
  },
  {
   "cell_type": "code",
   "execution_count": 45,
   "metadata": {},
   "outputs": [
    {
     "name": "stdout",
     "output_type": "stream",
     "text": [
      "['__attrs__', '__bool__', '__class__', '__delattr__', '__dict__', '__dir__', '__doc__', '__enter__', '__eq__', '__exit__', '__format__', '__ge__', '__getattribute__', '__getstate__', '__gt__', '__hash__', '__init__', '__init_subclass__', '__iter__', '__le__', '__lt__', '__module__', '__ne__', '__new__', '__nonzero__', '__reduce__', '__reduce_ex__', '__repr__', '__setattr__', '__setstate__', '__sizeof__', '__str__', '__subclasshook__', '__weakref__', '_content', '_content_consumed', '_next', 'apparent_encoding', 'close', 'connection', 'content', 'cookies', 'elapsed', 'encoding', 'headers', 'history', 'is_permanent_redirect', 'is_redirect', 'iter_content', 'iter_lines', 'json', 'links', 'next', 'ok', 'raise_for_status', 'raw', 'reason', 'request', 'status_code', 'text', 'url']\n"
     ]
    }
   ],
   "source": [
    "print(dir(res))"
   ]
  },
  {
   "cell_type": "code",
   "execution_count": 52,
   "metadata": {},
   "outputs": [
    {
     "name": "stdout",
     "output_type": "stream",
     "text": [
      "{'a': 1, 'b': 2, 'e': 4, 'f': 5}\n",
      "{'c': 1, 'd': 2, 'a': 1, 'b': 2, 'e': 4, 'f': 5}\n"
     ]
    }
   ],
   "source": [
    "d1 = {\n",
    "    'a': 1, \n",
    "    'b': 2,\n",
    "    'e': 4,\n",
    "    'f': 5\n",
    "}\n",
    "print(d1)\n",
    "\n",
    "d2 = dict(\n",
    "    c=1, \n",
    "    d=2,\n",
    "    **d1\n",
    ")\n",
    "print(d2)\n"
   ]
  },
  {
   "cell_type": "code",
   "execution_count": null,
   "metadata": {},
   "outputs": [],
   "source": []
  }
 ],
 "metadata": {
  "kernelspec": {
   "display_name": "Python 3",
   "language": "python",
   "name": "python3"
  },
  "language_info": {
   "codemirror_mode": {
    "name": "ipython",
    "version": 3
   },
   "file_extension": ".py",
   "mimetype": "text/x-python",
   "name": "python",
   "nbconvert_exporter": "python",
   "pygments_lexer": "ipython3",
   "version": "3.8.2"
  }
 },
 "nbformat": 4,
 "nbformat_minor": 4
}
