{
 "cells": [
  {
   "cell_type": "code",
   "execution_count": 8,
   "metadata": {},
   "outputs": [
    {
     "name": "stdout",
     "output_type": "stream",
     "text": [
      "<a href=\"http://info.cern.ch/hypertext/WWW/TheProject.html\">Browse the first website</a>\n",
      "http://info.cern.ch/hypertext/WWW/TheProject.html\n",
      "Browse the first website\n"
     ]
    }
   ],
   "source": [
    "import requests\n",
    "from bs4 import BeautifulSoup\n",
    "\n",
    "res = requests.get(\"http://info.cern.ch\")\n",
    "soup = BeautifulSoup(res.content, 'html.parser')\n",
    "\n",
    "print(soup.html.body.ul.li.a)\n",
    "print(soup.html.body.ul.li.a['href'])\n",
    "print(soup.html.body.ul.li.a.get_text())"
   ]
  },
  {
   "cell_type": "code",
   "execution_count": 15,
   "metadata": {},
   "outputs": [
    {
     "name": "stdout",
     "output_type": "stream",
     "text": [
      "\n",
      "http://info.cern.ch\n",
      "\n",
      "http://info.cern.ch - home of the first website\n",
      "From here you can:\n",
      "\n",
      "Browse the first website\n",
      "Browse the first website using the line-mode browser simulator\n",
      "Learn about the birth of the web\n",
      "Learn about CERN, the physics laboratory where the web was born\n",
      "\n",
      "\n"
     ]
    }
   ],
   "source": [
    "print(soup.html.body.get_text())"
   ]
  },
  {
   "cell_type": "code",
   "execution_count": 18,
   "metadata": {},
   "outputs": [
    {
     "data": {
      "text/plain": [
       "'From here you can:'"
      ]
     },
     "execution_count": 18,
     "metadata": {},
     "output_type": "execute_result"
    }
   ],
   "source": [
    "soup.select(\"p\")[0].get_text()"
   ]
  },
  {
   "cell_type": "code",
   "execution_count": 22,
   "metadata": {},
   "outputs": [
    {
     "name": "stdout",
     "output_type": "stream",
     "text": [
      "제목 1917\n",
      "평점 7.3\n",
      "제목 라라랜드\n",
      "평점 8.0\n",
      "제목 서치 아웃\n",
      "평점 5.8\n",
      "제목 건즈 아킴보\n",
      "평점 5.5\n",
      "제목 오픈 더 도어 \n",
      "평점 6.3\n",
      "제목 엽문4: 더 파이널\n",
      "평점 6.5\n",
      "제목 비밀정보원: 인 더 프리즌 \n",
      "평점 7.6\n",
      "제목 유령선\n",
      "평점 9.0\n",
      "제목 주디\n",
      "평점 8.1\n",
      "제목 라라걸\n",
      "평점 9.6\n"
     ]
    },
    {
     "data": {
      "text/plain": [
       "[<div class=\"desc_boxthumb\">\n",
       " <strong class=\"tit_join\"><a class=\"link_g #list #weekly @1\" href=\"/moviedb/main?movieId=134091\">1917</a></strong>\n",
       " <div class=\"raking_grade\">\n",
       " <span class=\"bg_star star_grade\"><span class=\"bg_star inner_star\" style=\"width:73.3%\">평점</span></span> <!-- 116px이 100%, % 계산에서 width값에 적용-->\n",
       " <em class=\"emph_grade\">7.3</em><span class=\"txt_grade\">/10</span>\n",
       " </div>\n",
       " <dl class=\"list_state\">\n",
       " <dt>주간관객</dt>\n",
       " <dd>주간관객 25647명</dd>\n",
       " <dt>개봉일</dt>\n",
       " <dd>2020.02.19 개봉</dd>\n",
       " </dl>\n",
       " </div>,\n",
       " <div class=\"desc_boxthumb\">\n",
       " <strong class=\"tit_join\"><a class=\"link_g #list #weekly @2\" href=\"/moviedb/main?movieId=95306\">라라랜드</a></strong>\n",
       " <div class=\"raking_grade\">\n",
       " <span class=\"bg_star star_grade\"><span class=\"bg_star inner_star\" style=\"width:79.25%\">평점</span></span> <!-- 116px이 100%, % 계산에서 width값에 적용-->\n",
       " <em class=\"emph_grade\">8.0</em><span class=\"txt_grade\">/10</span>\n",
       " </div>\n",
       " <dl class=\"list_state\">\n",
       " <dt>주간관객</dt>\n",
       " <dd>주간관객 22914명</dd>\n",
       " <dt>개봉일</dt>\n",
       " <dd>2016.12.07 개봉</dd>\n",
       " </dl>\n",
       " </div>,\n",
       " <div class=\"desc_boxthumb\">\n",
       " <strong class=\"tit_join\"><a class=\"link_g #list #weekly @3\" href=\"/moviedb/main?movieId=139604\">서치 아웃</a></strong>\n",
       " <div class=\"raking_grade\">\n",
       " <span class=\"bg_star star_grade\"><span class=\"bg_star inner_star\" style=\"width:56.8%\">평점</span></span> <!-- 116px이 100%, % 계산에서 width값에 적용-->\n",
       " <em class=\"emph_grade\">5.8</em><span class=\"txt_grade\">/10</span>\n",
       " </div>\n",
       " <dl class=\"list_state\">\n",
       " <dt>주간관객</dt>\n",
       " <dd>주간관객 20627명</dd>\n",
       " <dt>개봉일</dt>\n",
       " <dd>2020.04.15 개봉</dd>\n",
       " </dl>\n",
       " </div>,\n",
       " <div class=\"desc_boxthumb\">\n",
       " <strong class=\"tit_join\"><a class=\"link_g #list #weekly @4\" href=\"/moviedb/main?movieId=134531\">건즈 아킴보</a></strong>\n",
       " <div class=\"raking_grade\">\n",
       " <span class=\"bg_star star_grade\"><span class=\"bg_star inner_star\" style=\"width:54.25%\">평점</span></span> <!-- 116px이 100%, % 계산에서 width값에 적용-->\n",
       " <em class=\"emph_grade\">5.5</em><span class=\"txt_grade\">/10</span>\n",
       " </div>\n",
       " <dl class=\"list_state\">\n",
       " <dt>주간관객</dt>\n",
       " <dd>주간관객 18992명</dd>\n",
       " <dt>개봉일</dt>\n",
       " <dd>2020.04.15 개봉</dd>\n",
       " </dl>\n",
       " </div>,\n",
       " <div class=\"desc_boxthumb\">\n",
       " <strong class=\"tit_join\"><a class=\"link_g #list #weekly @5\" href=\"/moviedb/main?movieId=130321\">오픈 더 도어 </a></strong>\n",
       " <div class=\"raking_grade\">\n",
       " <span class=\"bg_star star_grade\"><span class=\"bg_star inner_star\" style=\"width:64.8%\">평점</span></span> <!-- 116px이 100%, % 계산에서 width값에 적용-->\n",
       " <em class=\"emph_grade\">6.3</em><span class=\"txt_grade\">/10</span>\n",
       " </div>\n",
       " <dl class=\"list_state\">\n",
       " <dt>주간관객</dt>\n",
       " <dd>주간관객 12070명</dd>\n",
       " <dt>개봉일</dt>\n",
       " <dd>2020.04.08 개봉</dd>\n",
       " </dl>\n",
       " </div>,\n",
       " <div class=\"desc_boxthumb\">\n",
       " <strong class=\"tit_join\"><a class=\"link_g #list #weekly @6\" href=\"/moviedb/main?movieId=137490\">엽문4: 더 파이널</a></strong>\n",
       " <div class=\"raking_grade\">\n",
       " <span class=\"bg_star star_grade\"><span class=\"bg_star inner_star\" style=\"width:66.5%\">평점</span></span> <!-- 116px이 100%, % 계산에서 width값에 적용-->\n",
       " <em class=\"emph_grade\">6.5</em><span class=\"txt_grade\">/10</span>\n",
       " </div>\n",
       " <dl class=\"list_state\">\n",
       " <dt>주간관객</dt>\n",
       " <dd>주간관객 11879명</dd>\n",
       " <dt>개봉일</dt>\n",
       " <dd>2020.04.01 개봉</dd>\n",
       " </dl>\n",
       " </div>,\n",
       " <div class=\"desc_boxthumb\">\n",
       " <strong class=\"tit_join\"><a class=\"link_g #list #weekly @7\" href=\"/moviedb/main?movieId=128700\">비밀정보원: 인 더 프리즌 </a></strong>\n",
       " <div class=\"raking_grade\">\n",
       " <span class=\"bg_star star_grade\"><span class=\"bg_star inner_star\" style=\"width:75.85%\">평점</span></span> <!-- 116px이 100%, % 계산에서 width값에 적용-->\n",
       " <em class=\"emph_grade\">7.6</em><span class=\"txt_grade\">/10</span>\n",
       " </div>\n",
       " <dl class=\"list_state\">\n",
       " <dt>주간관객</dt>\n",
       " <dd>주간관객 10666명</dd>\n",
       " <dt>개봉일</dt>\n",
       " <dd>2020.04.15 개봉</dd>\n",
       " </dl>\n",
       " </div>,\n",
       " <div class=\"desc_boxthumb\">\n",
       " <strong class=\"tit_join\"><a class=\"link_g #list #weekly @8\" href=\"/moviedb/main?movieId=140319\">유령선</a></strong>\n",
       " <div class=\"raking_grade\">\n",
       " <span class=\"bg_star star_grade\"><span class=\"bg_star inner_star\" style=\"width:91.5%\">평점</span></span> <!-- 116px이 100%, % 계산에서 width값에 적용-->\n",
       " <em class=\"emph_grade\">9.0</em><span class=\"txt_grade\">/10</span>\n",
       " </div>\n",
       " <dl class=\"list_state\">\n",
       " <dt>주간관객</dt>\n",
       " <dd>주간관객 8160명</dd>\n",
       " <dt>개봉일</dt>\n",
       " <dd>2020.04.15 개봉</dd>\n",
       " </dl>\n",
       " </div>,\n",
       " <div class=\"desc_boxthumb\">\n",
       " <strong class=\"tit_join\"><a class=\"link_g #list #weekly @9\" href=\"/moviedb/main?movieId=131576\">주디</a></strong>\n",
       " <div class=\"raking_grade\">\n",
       " <span class=\"bg_star star_grade\"><span class=\"bg_star inner_star\" style=\"width:83.85%\">평점</span></span> <!-- 116px이 100%, % 계산에서 width값에 적용-->\n",
       " <em class=\"emph_grade\">8.1</em><span class=\"txt_grade\">/10</span>\n",
       " </div>\n",
       " <dl class=\"list_state\">\n",
       " <dt>주간관객</dt>\n",
       " <dd>주간관객 6013명</dd>\n",
       " <dt>개봉일</dt>\n",
       " <dd>2020.03.25 개봉</dd>\n",
       " </dl>\n",
       " </div>,\n",
       " <div class=\"desc_boxthumb\">\n",
       " <strong class=\"tit_join\"><a class=\"link_g #list #weekly @10\" href=\"/moviedb/main?movieId=124109\">라라걸</a></strong>\n",
       " <div class=\"raking_grade\">\n",
       " <span class=\"bg_star star_grade\"><span class=\"bg_star inner_star\" style=\"width:96.6%\">평점</span></span> <!-- 116px이 100%, % 계산에서 width값에 적용-->\n",
       " <em class=\"emph_grade\">9.6</em><span class=\"txt_grade\">/10</span>\n",
       " </div>\n",
       " <dl class=\"list_state\">\n",
       " <dt>주간관객</dt>\n",
       " <dd>주간관객 5898명</dd>\n",
       " <dt>개봉일</dt>\n",
       " <dd>2020.04.15 개봉</dd>\n",
       " </dl>\n",
       " </div>]"
      ]
     },
     "execution_count": 22,
     "metadata": {},
     "output_type": "execute_result"
    }
   ],
   "source": [
    "import requests\n",
    "from bs4 import BeautifulSoup\n",
    "\n",
    "res = requests.get('https://movie.daum.net/boxoffice/weekly')\n",
    "\n",
    "soup = BeautifulSoup(res.content, 'html.parser')\n",
    "\n",
    "for tag in soup.select('.desc_boxthumb'):\n",
    "    print('제목', tag.select(\".link_g\")[0].get_text())\n",
    "    print('평점', tag.select(\".emph_grade\")[0].get_text())\n",
    "    \n",
    "soup.select('.desc_boxthumb')"
   ]
  },
  {
   "cell_type": "code",
   "execution_count": null,
   "metadata": {},
   "outputs": [],
   "source": []
  }
 ],
 "metadata": {
  "kernelspec": {
   "display_name": "Python 3",
   "language": "python",
   "name": "python3"
  },
  "language_info": {
   "codemirror_mode": {
    "name": "ipython",
    "version": 3
   },
   "file_extension": ".py",
   "mimetype": "text/x-python",
   "name": "python",
   "nbconvert_exporter": "python",
   "pygments_lexer": "ipython3",
   "version": "3.8.2"
  }
 },
 "nbformat": 4,
 "nbformat_minor": 4
}
